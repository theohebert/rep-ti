{
 "cells": [
  {
   "cell_type": "code",
   "execution_count": 13,
   "id": "10e9525d",
   "metadata": {},
   "outputs": [],
   "source": [
    "import random \n",
    "import pandas as pd\n",
    "import math\n",
    "import decimal"
   ]
  },
  {
   "cell_type": "code",
   "execution_count": 3,
   "id": "1226ab5d",
   "metadata": {},
   "outputs": [],
   "source": [
    "NombreEssais = 100000\n",
    "NombreReussites = 0\n",
    "a = 0\n",
    "b = 1\n",
    "\n",
    "#residus = pd.DataFrame(columns=['residu'])"
   ]
  },
  {
   "cell_type": "code",
   "execution_count": 4,
   "id": "cf6766c9",
   "metadata": {},
   "outputs": [
    {
     "name": "stdout",
     "output_type": "stream",
     "text": [
      "Nombre de réussites: 82916 sur 100000\n"
     ]
    }
   ],
   "source": [
    "for i in range(NombreEssais):\n",
    "    x = random.uniform(a, b)\n",
    "    y = random.uniform(a, b)\n",
    "    z = random.uniform(a, b)\n",
    "\n",
    "    res1 = (x+y)+z\n",
    "    res2 = x+(y+z)  \n",
    "\n",
    "    if res1 == res2:\n",
    "        NombreReussites += 1\n",
    "    else:\n",
    "        residu = res1 - res2\n",
    "        #residus = pd.concat([residus, pd.DataFrame({'residu': [residu]})], ignore_index=True)\n",
    "    \n",
    "\n",
    "print(f\"Nombre de réussites: {NombreReussites} sur {NombreEssais}\")\n",
    "\n",
    "#plot = residus.plot(kind='hist', bins=100, title='Histogramme des résidus (x+y)+z - x+(y+z)')\n",
    "NombreReussites = 0\n",
    "#residus = pd.DataFrame(columns=['residu'])"
   ]
  },
  {
   "cell_type": "code",
   "execution_count": 24,
   "id": "20d9bb52",
   "metadata": {},
   "outputs": [
    {
     "ename": "SyntaxError",
     "evalue": "cannot assign to function call here. Maybe you meant '==' instead of '='? (2755392469.py, line 2)",
     "output_type": "error",
     "traceback": [
      "  \u001b[36mCell\u001b[39m\u001b[36m \u001b[39m\u001b[32mIn[24]\u001b[39m\u001b[32m, line 2\u001b[39m\n\u001b[31m    \u001b[39m\u001b[31mDecimal(e) = math.e\u001b[39m\n    ^\n\u001b[31mSyntaxError\u001b[39m\u001b[31m:\u001b[39m cannot assign to function call here. Maybe you meant '==' instead of '='?\n"
     ]
    }
   ],
   "source": [
    "decimal.getcontext().prec = 200\n",
    "Decimal(e) = math.e\n",
    "NombreAnnees = 50\n",
    "\n",
    "monnaie = e\n",
    "annees = pd.DataFrame(columns=['Annee','monnaie'])\n",
    "\n",
    "for i in range(1,NombreAnnees+1):\n",
    "    monnaie = monnaie - 1\n",
    "    monnaie = monnaie * i\n",
    "    annees = pd.concat([annees, pd.DataFrame({'Annee': [i],'monnaie': [monnaie]})], ignore_index=True)\n",
    "\n",
    "print(monnaie)\n"
   ]
  }
 ],
 "metadata": {
  "kernelspec": {
   "display_name": "3.12.11",
   "language": "python",
   "name": "python3"
  },
  "language_info": {
   "codemirror_mode": {
    "name": "ipython",
    "version": 3
   },
   "file_extension": ".py",
   "mimetype": "text/x-python",
   "name": "python",
   "nbconvert_exporter": "python",
   "pygments_lexer": "ipython3",
   "version": "3.12.11"
  }
 },
 "nbformat": 4,
 "nbformat_minor": 5
}
